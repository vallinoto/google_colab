{
  "nbformat": 4,
  "nbformat_minor": 0,
  "metadata": {
    "colab": {
      "name": "Copy of Exercicios Aula 02.ipynb",
      "provenance": [],
      "authorship_tag": "ABX9TyMfgMrdIA2ZfVgZ5J4uRVSL",
      "include_colab_link": true
    },
    "kernelspec": {
      "name": "python3",
      "display_name": "Python 3"
    },
    "language_info": {
      "name": "python"
    }
  },
  "cells": [
    {
      "cell_type": "markdown",
      "metadata": {
        "id": "view-in-github",
        "colab_type": "text"
      },
      "source": [
        "<a href=\"https://colab.research.google.com/github/vallinoto/google_colab/blob/master/Exercicios_Aula_02.ipynb\" target=\"_parent\"><img src=\"https://colab.research.google.com/assets/colab-badge.svg\" alt=\"Open In Colab\"/></a>"
      ]
    },
    {
      "cell_type": "markdown",
      "source": [
        "**Algoritmo para realizar a media de dois valores capturados**"
      ],
      "metadata": {
        "id": "5HO8kDJU2AYQ"
      }
    },
    {
      "cell_type": "code",
      "execution_count": null,
      "metadata": {
        "colab": {
          "base_uri": "https://localhost:8080/"
        },
        "id": "s-X4SlRX17vH",
        "outputId": "abec5e61-c291-4e8b-cbde-db6ae4e9ca9a"
      },
      "outputs": [
        {
          "name": "stdout",
          "output_type": "stream",
          "text": [
            "Informe o primeiro valor: 2\n",
            "Informa o segundo valor: 4\n"
          ]
        }
      ],
      "source": [
        "valor_1 = float(input('Informe o primeiro valor: '))\n",
        "valor_2 = float(input('Informa o segundo valor: '))"
      ]
    },
    {
      "cell_type": "code",
      "source": [
        "media = (valor_1 + valor_2) / 2 "
      ],
      "metadata": {
        "id": "5rGD6SFa2oYx"
      },
      "execution_count": null,
      "outputs": []
    },
    {
      "cell_type": "code",
      "source": [
        "print('A media entre os valores é ' + str(media))"
      ],
      "metadata": {
        "colab": {
          "base_uri": "https://localhost:8080/"
        },
        "id": "wFdsXdXb20NY",
        "outputId": "0488ce67-f8f2-477f-ab10-71cdd22fd872"
      },
      "execution_count": null,
      "outputs": [
        {
          "output_type": "stream",
          "name": "stdout",
          "text": [
            "A media entre os valores é 3.0\n"
          ]
        }
      ]
    },
    {
      "cell_type": "markdown",
      "source": [
        "**Algoritmo para calcular o salário líquido de um funcionário**"
      ],
      "metadata": {
        "id": "GPpx2B2b6BDV"
      }
    },
    {
      "cell_type": "code",
      "source": [
        "sal_hora = float(input('Informe o valor do salario/hora: '))\n",
        "qtd_horas = float(input('Informe a carga horaria de trabalho: '))\n",
        "qtd_dias = float(input('Informe a qtd de dias trabalhados: '))"
      ],
      "metadata": {
        "colab": {
          "base_uri": "https://localhost:8080/"
        },
        "id": "M2Lr6EIE4-dM",
        "outputId": "dc33a76c-d91a-4d04-a0c7-7a38f8712909"
      },
      "execution_count": null,
      "outputs": [
        {
          "name": "stdout",
          "output_type": "stream",
          "text": [
            "Informe o valor do salario/hora: 100\n",
            "Informe a carga horaria de trabalho: 8\n",
            "Informe a qtd de dias trabalhados: 22\n"
          ]
        }
      ]
    },
    {
      "cell_type": "code",
      "source": [
        "salario = sal_hora * qtd_horas * qtd_dias"
      ],
      "metadata": {
        "id": "E5qVbei389O7"
      },
      "execution_count": null,
      "outputs": []
    },
    {
      "cell_type": "code",
      "source": [
        "print('O salario a receber é de R$' + str(salario))"
      ],
      "metadata": {
        "colab": {
          "base_uri": "https://localhost:8080/"
        },
        "id": "ARpBOpRY9LmF",
        "outputId": "82210dd0-389b-4c50-c4af-685260ef875e"
      },
      "execution_count": null,
      "outputs": [
        {
          "output_type": "stream",
          "name": "stdout",
          "text": [
            "O salario a receber é de R$17600.0\n"
          ]
        }
      ]
    },
    {
      "cell_type": "markdown",
      "source": [
        "**Algoritmo para testar se um valor é maior que 10**"
      ],
      "metadata": {
        "id": "IjfltjmcASXZ"
      }
    },
    {
      "cell_type": "code",
      "source": [
        "valor = float(input('Informe o valor para teste: '))"
      ],
      "metadata": {
        "colab": {
          "base_uri": "https://localhost:8080/"
        },
        "id": "qS-9yBrJ9fP0",
        "outputId": "092e54b0-dee8-41cb-aef3-6711e5bf2b80"
      },
      "execution_count": null,
      "outputs": [
        {
          "name": "stdout",
          "output_type": "stream",
          "text": [
            "Informe o valor para teste: 11\n"
          ]
        }
      ]
    },
    {
      "cell_type": "code",
      "source": [
        "if valor <= 10:\n",
        "  print('o numero é menor ou igual a 10')\n",
        "else:\n",
        "  print('o numero é maior do que 10')"
      ],
      "metadata": {
        "colab": {
          "base_uri": "https://localhost:8080/"
        },
        "id": "2CsEs2coBlOT",
        "outputId": "4d3db440-0d89-4dee-9d38-cce96cde4397"
      },
      "execution_count": null,
      "outputs": [
        {
          "output_type": "stream",
          "name": "stdout",
          "text": [
            "o numero é maior do que 10\n"
          ]
        }
      ]
    },
    {
      "cell_type": "code",
      "source": [
        "if valor > 10:\n",
        "  print('o numero é maior do que 10')\n",
        "else:\n",
        "  print('o numero é menor ou igual a 10')"
      ],
      "metadata": {
        "colab": {
          "base_uri": "https://localhost:8080/"
        },
        "id": "Ji3mmgbeCto1",
        "outputId": "62a521f5-5b09-43c3-d1fe-2458c6c4cea8"
      },
      "execution_count": null,
      "outputs": [
        {
          "output_type": "stream",
          "name": "stdout",
          "text": [
            "o numero é maior do que 10\n"
          ]
        }
      ]
    },
    {
      "cell_type": "markdown",
      "source": [
        "**Algoritmo da mordida: aplicando o IR no salario**"
      ],
      "metadata": {
        "id": "9912wdjQGj4s"
      }
    },
    {
      "cell_type": "code",
      "source": [
        ""
      ],
      "metadata": {
        "id": "O9A4ROZyHHnt"
      },
      "execution_count": null,
      "outputs": []
    },
    {
      "cell_type": "code",
      "source": [
        "sal_hora = float(input('Informe o valor do salario/hora: '))\n",
        "qtd_horas = float(input('Informe a carga horaria de trabalho: '))\n",
        "qtd_dias = float(input('Informe a qtd de dias trabalhados: '))"
      ],
      "metadata": {
        "colab": {
          "base_uri": "https://localhost:8080/"
        },
        "id": "DnNJNYyvDCDu",
        "outputId": "6e1c834b-24f0-4175-e783-419bbec7d5a2"
      },
      "execution_count": null,
      "outputs": [
        {
          "name": "stdout",
          "output_type": "stream",
          "text": [
            "Informe o valor do salario/hora: 100\n",
            "Informe a carga horaria de trabalho: 8\n",
            "Informe a qtd de dias trabalhados: 22\n"
          ]
        }
      ]
    },
    {
      "cell_type": "code",
      "source": [
        "salario = sal_hora * qtd_horas * qtd_dias"
      ],
      "metadata": {
        "id": "-UwXi8jdHN2B"
      },
      "execution_count": null,
      "outputs": []
    },
    {
      "cell_type": "code",
      "source": [
        "if salario <= 1903.98:\n",
        "  imposto = 0\n",
        "elif (salario >= 1903.99) & (salario <= 2826.65):\n",
        "  imposto = salario * 0.075\n",
        "elif (salario >= 2826.66) & (salario <= 3751.05):\n",
        "  imposto = salario * 0.15\n",
        "elif (salario >= 3751.06) & (salario <= 4664.68):\n",
        "  imposto = salario * 0.225\n",
        "elif (salario > 4664.68):\n",
        "  imposto = salario * 0.275\n",
        "else:\n",
        "  print('deu ruim')"
      ],
      "metadata": {
        "id": "22N6Q4myHPRa"
      },
      "execution_count": null,
      "outputs": []
    },
    {
      "cell_type": "code",
      "source": [
        "print(imposto)"
      ],
      "metadata": {
        "colab": {
          "base_uri": "https://localhost:8080/"
        },
        "id": "8yk4-EBLJT4z",
        "outputId": "78d89f4d-aab2-4a88-8f40-12d5627a63df"
      },
      "execution_count": null,
      "outputs": [
        {
          "output_type": "stream",
          "name": "stdout",
          "text": [
            "4840.0\n"
          ]
        }
      ]
    },
    {
      "cell_type": "code",
      "source": [
        "sal_liq = salario - imposto"
      ],
      "metadata": {
        "id": "_8NHeftUJWU3"
      },
      "execution_count": null,
      "outputs": []
    },
    {
      "cell_type": "code",
      "source": [
        "print(f'O valor de imposto, baseado no salario de {salario}, será de {imposto}, dando como valor líquido {sal_liq} ')"
      ],
      "metadata": {
        "colab": {
          "base_uri": "https://localhost:8080/"
        },
        "id": "NaGPFfB_JmAm",
        "outputId": "717adb2c-2daa-4389-c402-867eb276c345"
      },
      "execution_count": null,
      "outputs": [
        {
          "output_type": "stream",
          "name": "stdout",
          "text": [
            "O valor de imposto, baseado no salario de 17600.0, será de 4840.0, dando como valor líquido 12760.0 \n"
          ]
        }
      ]
    },
    {
      "cell_type": "code",
      "source": [
        "# Exemplo do colega Roberto\n",
        "\n",
        "valor_hora = float(input('Digite quanto vc ganha por hora: '))\n",
        "qtd_horas = float(input('Digite quantas horas vc trabalha por dia: '))\n",
        "qtd_dias = int(input('Digite quantos dias vc trabalhou no mês: '))\n",
        "\n",
        "salario = valor_hora*qtd_horas*qtd_dias\n",
        "\n",
        "if 1903.98 < salario <= 2826.65:  #Essa é uma notacao valida para comparar valores\n",
        "  salario *= 0.925                #Aqui ele aplica já a diferenca, para achar o vlr liquido\n",
        "  imposto = '7,5%'                #Ele teve a preocupacao de mante o percentual aplicado para informar o usuario\n",
        "elif 2826.65 > salario <= 3751.05:\n",
        "  salario *= 0.85\n",
        "  imposto = '15%'\n",
        "elif 3751.05> salario <= 4664.68:\n",
        "  salario *= 0.775\n",
        "  imposto = '22,5%'\n",
        "elif salario > 4664.68:\n",
        "  salario *= 0.725\n",
        "  imposto = '27,5%'\n",
        "else:\n",
        "  imposto = '0%'\n",
        "\n",
        "print(f'Seu salário é: R$ {salario} ({imposto} de imposto)')"
      ],
      "metadata": {
        "id": "daekeJrnJocX"
      },
      "execution_count": null,
      "outputs": []
    },
    {
      "cell_type": "markdown",
      "source": [
        "**Algoritmo para ler 3 valores e imprimir o maior deles**"
      ],
      "metadata": {
        "id": "D5jDFS72SQlN"
      }
    },
    {
      "cell_type": "code",
      "source": [
        "print('Informe tres valores')\n",
        "v1 = int(input('valor 1: '))\n",
        "v2 = int(input('valor 2: '))\n",
        "v3 = int(input('valor 3: '))\n",
        "\n",
        "\n",
        "if v1 > v2 and v1 > v3:\n",
        "  print('v1 é o maior')\n",
        "elif v2 > v1 and v2> v3:\n",
        "  print('v2 é o maior')\n",
        "else:\n",
        "  print('v3 é o maior')"
      ],
      "metadata": {
        "colab": {
          "base_uri": "https://localhost:8080/"
        },
        "id": "vXveN_wuMWzt",
        "outputId": "e0420d8a-61b1-449f-e498-4a59ed4e3858"
      },
      "execution_count": null,
      "outputs": [
        {
          "output_type": "stream",
          "name": "stdout",
          "text": [
            "Informe tres valores\n",
            "valor 1: 2\n",
            "valor 2: 3\n",
            "valor 3: 4\n",
            "v3 é o maior\n"
          ]
        }
      ]
    },
    {
      "cell_type": "markdown",
      "source": [
        "**Algoritmo lê 3 valores e testa se temos um par de valores em que um valor é o dobro do outro**"
      ],
      "metadata": {
        "id": "zwgr4-KCUTSX"
      }
    },
    {
      "cell_type": "code",
      "source": [
        "print('Informe tres valores')\n",
        "v1 = int(input('valor 1: '))\n",
        "v2 = int(input('valor 2: '))\n",
        "v3 = int(input('valor 3: '))"
      ],
      "metadata": {
        "colab": {
          "base_uri": "https://localhost:8080/"
        },
        "id": "ZgCA0rtsTwWH",
        "outputId": "88e30741-a26c-4345-85f6-b0543f0bcd2a"
      },
      "execution_count": null,
      "outputs": [
        {
          "name": "stdout",
          "output_type": "stream",
          "text": [
            "Informe tres valores\n",
            "valor 1: 4\n",
            "valor 2: 5\n",
            "valor 3: 2\n"
          ]
        }
      ]
    },
    {
      "cell_type": "code",
      "source": [
        "if v1 == 2*v2:\n",
        "  print('v1 é o dobro de v2')\n",
        "elif v1 == 2*v3:\n",
        "  print('v1 é o dobro de v3')\n",
        "elif v2 == 2*v1:\n",
        "  print('v2 é o dobro de v1')\n",
        "elif v2 == 2*v3:\n",
        "  print('v2 é o dobro de v3')\n",
        "elif v3 == 2*v1:\n",
        "  print('v3 é o dobro de v1')\n",
        "elif v3 == 2*v2:\n",
        "  print('v3 é o dobro de v3')\n",
        "else:\n",
        "  print('Ninguem é o dobro')"
      ],
      "metadata": {
        "colab": {
          "base_uri": "https://localhost:8080/"
        },
        "id": "-ko3Gg9xUr2D",
        "outputId": "a006ac5c-6e35-44dd-d238-2f03bff1c7f2"
      },
      "execution_count": null,
      "outputs": [
        {
          "output_type": "stream",
          "name": "stdout",
          "text": [
            "v1 éo dobro de v3\n"
          ]
        }
      ]
    }
  ]
}